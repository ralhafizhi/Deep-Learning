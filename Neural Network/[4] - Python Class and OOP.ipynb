{
 "cells": [
  {
   "cell_type": "markdown",
   "metadata": {
    "heading_collapsed": true
   },
   "source": [
    "# Dasar OOP"
   ]
  },
  {
   "cell_type": "markdown",
   "metadata": {
    "heading_collapsed": true,
    "hidden": true
   },
   "source": [
    "## Kelas manusia manual"
   ]
  },
  {
   "cell_type": "code",
   "execution_count": 1,
   "metadata": {
    "hidden": true
   },
   "outputs": [],
   "source": [
    "class Manusia:\n",
    "    def __init__(self):\n",
    "        self.warna_rambut = \"hitam\"\n",
    "        self.tinggi = 175\n",
    "        self.berat = 70\n",
    "        "
   ]
  },
  {
   "cell_type": "code",
   "execution_count": 2,
   "metadata": {
    "hidden": true
   },
   "outputs": [],
   "source": [
    "coba = Manusia()"
   ]
  },
  {
   "cell_type": "code",
   "execution_count": 7,
   "metadata": {
    "hidden": true
   },
   "outputs": [
    {
     "data": {
      "text/plain": [
       "70"
      ]
     },
     "execution_count": 7,
     "metadata": {},
     "output_type": "execute_result"
    }
   ],
   "source": [
    "coba.berat"
   ]
  },
  {
   "cell_type": "code",
   "execution_count": 8,
   "metadata": {
    "hidden": true
   },
   "outputs": [
    {
     "data": {
      "text/plain": [
       "'hitam'"
      ]
     },
     "execution_count": 8,
     "metadata": {},
     "output_type": "execute_result"
    }
   ],
   "source": [
    "coba.warna_rambut"
   ]
  },
  {
   "cell_type": "markdown",
   "metadata": {
    "heading_collapsed": true,
    "hidden": true
   },
   "source": [
    "## Kelas manusia by parameter (input user)"
   ]
  },
  {
   "cell_type": "code",
   "execution_count": 29,
   "metadata": {
    "hidden": true
   },
   "outputs": [],
   "source": [
    "class Manusia:\n",
    "    def __init__(self, warna_rambut, tinggi, berat):\n",
    "        self.warna_rambut = warna_rambut\n",
    "        self.tinggi = tinggi\n",
    "        self.berat = berat\n",
    "        \n",
    "    #tambahkan action (method) didalamnya   \n",
    "    def cat_rambutnya(self, warna):\n",
    "        self.warna_rambut = warna\n",
    "        print(f\"Rambutnya menjadi warna {warna}\")\n",
    "        \n",
    "    def BMI(self):\n",
    "       return self.berat/self.tinggi**2"
   ]
  },
  {
   "cell_type": "code",
   "execution_count": 30,
   "metadata": {
    "hidden": true
   },
   "outputs": [],
   "source": [
    "coba1 = Manusia(\"hitam\", 175, 65)"
   ]
  },
  {
   "cell_type": "code",
   "execution_count": 31,
   "metadata": {
    "hidden": true
   },
   "outputs": [
    {
     "data": {
      "text/plain": [
       "'hitam'"
      ]
     },
     "execution_count": 31,
     "metadata": {},
     "output_type": "execute_result"
    }
   ],
   "source": [
    "coba1.warna_rambut"
   ]
  },
  {
   "cell_type": "code",
   "execution_count": 32,
   "metadata": {
    "hidden": true
   },
   "outputs": [
    {
     "name": "stdout",
     "output_type": "stream",
     "text": [
      "Rambutnya menjadi warna Coklat\n"
     ]
    }
   ],
   "source": [
    "coba1.cat_rambutnya(\"Coklat\")"
   ]
  },
  {
   "cell_type": "code",
   "execution_count": 33,
   "metadata": {
    "hidden": true
   },
   "outputs": [
    {
     "data": {
      "text/plain": [
       "'Coklat'"
      ]
     },
     "execution_count": 33,
     "metadata": {},
     "output_type": "execute_result"
    }
   ],
   "source": [
    "coba1.warna_rambut"
   ]
  },
  {
   "cell_type": "code",
   "execution_count": 35,
   "metadata": {
    "hidden": true
   },
   "outputs": [
    {
     "data": {
      "text/plain": [
       "0.0021224489795918368"
      ]
     },
     "execution_count": 35,
     "metadata": {},
     "output_type": "execute_result"
    }
   ],
   "source": [
    "coba1.BMI()"
   ]
  },
  {
   "cell_type": "markdown",
   "metadata": {
    "heading_collapsed": true,
    "hidden": true
   },
   "source": [
    "## Inheritance (Pewarisan) "
   ]
  },
  {
   "cell_type": "code",
   "execution_count": 41,
   "metadata": {
    "hidden": true
   },
   "outputs": [],
   "source": [
    "class Mahasiswa(Manusia):\n",
    "    def __init__(self, warna_rambut, tinggi, berat, univ):\n",
    "        super().__init__(warna_rambut,tinggi,berat) #panggil kelas manusia yg menjadi superior menggunakan super().__init__\n",
    "        self.univ = univ"
   ]
  },
  {
   "cell_type": "code",
   "execution_count": 42,
   "metadata": {
    "hidden": true
   },
   "outputs": [],
   "source": [
    "test = Mahasiswa(\"Hitam\",178,66,\"Universitas Ibn Khaldun\")"
   ]
  },
  {
   "cell_type": "code",
   "execution_count": 43,
   "metadata": {
    "hidden": true
   },
   "outputs": [
    {
     "data": {
      "text/plain": [
       "'Universitas Ibn Khaldun'"
      ]
     },
     "execution_count": 43,
     "metadata": {},
     "output_type": "execute_result"
    }
   ],
   "source": [
    "test.univ"
   ]
  },
  {
   "cell_type": "code",
   "execution_count": 44,
   "metadata": {
    "hidden": true
   },
   "outputs": [
    {
     "data": {
      "text/plain": [
       "0.002083070319404116"
      ]
     },
     "execution_count": 44,
     "metadata": {},
     "output_type": "execute_result"
    }
   ],
   "source": [
    "test.BMI()"
   ]
  },
  {
   "cell_type": "markdown",
   "metadata": {},
   "source": [
    "# PyTorch NN Module"
   ]
  },
  {
   "cell_type": "code",
   "execution_count": 1,
   "metadata": {},
   "outputs": [],
   "source": [
    "import torch\n",
    "from torch import nn"
   ]
  },
  {
   "cell_type": "code",
   "execution_count": 48,
   "metadata": {},
   "outputs": [],
   "source": [
    "#inheritance kelas Module()\n",
    "??nn.Module()"
   ]
  },
  {
   "cell_type": "code",
   "execution_count": null,
   "metadata": {},
   "outputs": [],
   "source": [
    "model = nn.Sequential(\n",
    "    \n",
    "    nn.Linear(8, 16),\n",
    "    nn.ReLU(),\n",
    "    nn.Dropout(0.15),\n",
    "    \n",
    "    nn.Linear(16, 8),\n",
    "    nn.ReLU(),\n",
    "    nn.Dropout(0.15),\n",
    "    \n",
    "    nn.Linear(8, 2),\n",
    "    nn.LogSoftmax(1)\n",
    "    \n",
    ")"
   ]
  },
  {
   "cell_type": "code",
   "execution_count": 112,
   "metadata": {},
   "outputs": [],
   "source": [
    "class custom_nn(nn.Module): #ambil kelas parent >> nn.Module\n",
    "    def __init__(self, input_size, output_size, prob=0.1 ): #user bisa input parameter ini\n",
    "        super().__init__( ) #inisialisasi parent\n",
    "        \n",
    "        self.layer1 = nn.Linear(input_size, 16)\n",
    "        self.layer2 = nn.Linear(16, 8)\n",
    "        self.layer3 = nn.Linear(8, output_size)\n",
    "        \n",
    "        self.relu = nn.ReLU()\n",
    "        self.lsoftmax = nn.LogSoftmax(1)\n",
    "        self.Dropout = nn.Dropout(prob)\n",
    "        \n",
    "    def forward(self, X): #harus didefinisikan dan customisasi\n",
    "        \n",
    "        X = self.layer1(X)\n",
    "        X = self.relu(X)\n",
    "        X = self.Dropout(X)\n",
    "        \n",
    "        X = self.layer2(X)\n",
    "        X = self.relu(X)\n",
    "        X = self.Dropout(X)\n",
    "        \n",
    "        X = self.layer3(X)\n",
    "        X = self.lsoftmax(X)    \n",
    "            \n",
    "        return X"
   ]
  },
  {
   "cell_type": "code",
   "execution_count": 113,
   "metadata": {},
   "outputs": [
    {
     "data": {
      "text/plain": [
       "custom_nn(\n",
       "  (layer1): Linear(in_features=8, out_features=16, bias=True)\n",
       "  (layer2): Linear(in_features=16, out_features=8, bias=True)\n",
       "  (layer3): Linear(in_features=8, out_features=2, bias=True)\n",
       "  (relu): ReLU()\n",
       "  (lsoftmax): LogSoftmax()\n",
       "  (Dropout): Dropout(p=0.1, inplace=False)\n",
       ")"
      ]
     },
     "execution_count": 113,
     "metadata": {},
     "output_type": "execute_result"
    }
   ],
   "source": [
    "#panggil dan pakai kelas diatas\n",
    "model = custom_nn(8, 2)\n",
    "model"
   ]
  },
  {
   "cell_type": "markdown",
   "metadata": {},
   "source": [
    "## Membuat Linear Block (Grup)"
   ]
  },
  {
   "cell_type": "code",
   "execution_count": 151,
   "metadata": {},
   "outputs": [],
   "source": [
    "??nn.Module"
   ]
  },
  {
   "cell_type": "code",
   "execution_count": 158,
   "metadata": {},
   "outputs": [],
   "source": [
    "#Buat block atau grup\n",
    "def linear_block(n_input,n_output, activation=\"relu\", dropout=0.1):\n",
    "    \n",
    "    #layers\n",
    "    layers = []\n",
    "    layers.append(nn.Linear(n_input,n_output))  \n",
    "    \n",
    "    #activation\n",
    "    if activation == \"relu\" :\n",
    "        layers.append(nn.ReLU())\n",
    "        \n",
    "    elif activation == \"sigmoid\":\n",
    "        layers.append(nn.Sigmoid())\n",
    "            \n",
    "    elif activation == \"lsoftmax\":\n",
    "        layers.append(nn.LogSoftmax(1))\n",
    "        \n",
    "    elif activation == \"softmax\":\n",
    "        layers.append(nn.Softmax())\n",
    "        \n",
    "    elif activation == \"tanh\":\n",
    "        layers.append(nn.Tanh())\n",
    "        \n",
    "    elif activation == \"elu\":\n",
    "        layers.append(nn.E())\n",
    "                \n",
    "    #droput\n",
    "    if 0 < dropout <= 1:\n",
    "        layers.append(nn.Dropout(dropout))\n",
    "    \n",
    "    return nn.Sequential(*layers) #layer tsb dibungkus ke dalam nn.Sequential\n",
    "\n",
    "\n",
    "\n",
    "    \n",
    "class custom_nn(nn.Module): #ambil kelas parent >> nn.Module\n",
    "    def __init__(self, input_size, output_size): \n",
    "        super().__init__( ) #inisialisasi parent\n",
    "        \n",
    "        #ubah code sebelumnya menjadi FC (Fully Connected)\n",
    "        self.fc = nn.Sequential( \n",
    "            linear_block(input_size, 16, dropout=0.15, activation='tanh'),\n",
    "            linear_block(16, 8, dropout=0.15, activation='tanh'),\n",
    "            linear_block(16, 8, dropout=0.15, activation='tanh'),\n",
    "            linear_block(16, 8, dropout=0.15, activation='tanh'),\n",
    "            linear_block(8, output_size, activation=\"lsoftmax\", dropout=0)  \n",
    "        )\n",
    "              \n",
    "    def forward(self, X):  \n",
    "        X = self.fc(X)\n",
    "        return X"
   ]
  }
 ],
 "metadata": {
  "kernelspec": {
   "display_name": "Python [conda env:jcop]",
   "language": "python",
   "name": "conda-env-jcop-py"
  },
  "language_info": {
   "codemirror_mode": {
    "name": "ipython",
    "version": 3
   },
   "file_extension": ".py",
   "mimetype": "text/x-python",
   "name": "python",
   "nbconvert_exporter": "python",
   "pygments_lexer": "ipython3",
   "version": "3.7.6"
  },
  "nbTranslate": {
   "displayLangs": [
    "*"
   ],
   "hotkey": "alt-t",
   "langInMainMenu": true,
   "sourceLang": "en",
   "targetLang": "fr",
   "useGoogleTranslate": true
  }
 },
 "nbformat": 4,
 "nbformat_minor": 2
}
